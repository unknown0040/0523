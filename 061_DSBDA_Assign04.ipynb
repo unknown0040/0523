{
 "cells": [
  {
   "cell_type": "code",
   "execution_count": null,
   "id": "f4eced5a",
   "metadata": {},
   "outputs": [],
   "source": [
    "import pandas as pd\n",
    "import numpy as np\n",
    "# to split data, we use these:\n",
    "from sklearn.model_selection import train_test_split\n",
    "from sklearn.linear_model import LinearRegression\n",
    "# for scatterplot\n",
    "import matplotlib.pyplot as plt\n",
    "\n",
    "from sklearn import metrics"
   ]
  },
  {
   "cell_type": "code",
   "execution_count": null,
   "id": "742e0974",
   "metadata": {},
   "outputs": [],
   "source": [
    "df=pd.read_csv('04housing.csv')\n",
    "df"
   ]
  },
  {
   "cell_type": "code",
   "execution_count": null,
   "id": "c03f4bf4",
   "metadata": {},
   "outputs": [],
   "source": [
    "df.isnull().sum()"
   ]
  },
  {
   "cell_type": "code",
   "execution_count": null,
   "id": "00cb2326",
   "metadata": {},
   "outputs": [],
   "source": [
    "#split into dependent and indelepndent column\n",
    "x=df[['CRIM','ZN','INDUS','CHAS','NOX','RM','AGE','DIS','RAD','TAX','PTRATIO','B','LSTAT']]\n",
    "y=df['MEDV'] # independent"
   ]
  },
  {
   "cell_type": "code",
   "execution_count": null,
   "id": "b8535a21",
   "metadata": {},
   "outputs": [],
   "source": [
    "x"
   ]
  },
  {
   "cell_type": "code",
   "execution_count": null,
   "id": "396c4a88",
   "metadata": {},
   "outputs": [],
   "source": [
    "y"
   ]
  },
  {
   "cell_type": "code",
   "execution_count": null,
   "id": "0243fdb3",
   "metadata": {},
   "outputs": [],
   "source": [
    "df.dtypes"
   ]
  },
  {
   "cell_type": "code",
   "execution_count": null,
   "id": "25e1acc7",
   "metadata": {},
   "outputs": [],
   "source": [
    "#split data into training and testing"
   ]
  },
  {
   "cell_type": "code",
   "execution_count": null,
   "id": "78e55036",
   "metadata": {},
   "outputs": [],
   "source": [
    "X_train, X_test, y_train, y_test = train_test_split(x, y, test_size=0.2) \n",
    "# 20% testing"
   ]
  },
  {
   "cell_type": "code",
   "execution_count": null,
   "id": "8d8ce1a2",
   "metadata": {},
   "outputs": [],
   "source": [
    "#linear regression model\n",
    "lr = LinearRegression()\n",
    "#train data\n",
    "lr.fit(X_train,y_train)"
   ]
  },
  {
   "cell_type": "code",
   "execution_count": null,
   "id": "3a3b0d4f",
   "metadata": {},
   "outputs": [],
   "source": [
    "#predect y value\n",
    "predictions = lr.predict(X_test)"
   ]
  },
  {
   "cell_type": "code",
   "execution_count": null,
   "id": "d00febbe",
   "metadata": {},
   "outputs": [],
   "source": [
    "plt.scatter(y_test,predictions)\n",
    "plt.xlabel('Y Test')\n",
    "plt.ylabel('Predicted Y')"
   ]
  },
  {
   "cell_type": "code",
   "execution_count": null,
   "id": "1bac6c43",
   "metadata": {},
   "outputs": [],
   "source": [
    "#mean square error between predected and test value\n",
    "from sklearn import metrics\n",
    "metrics.mean_squared_error(y_test, predictions)"
   ]
  },
  {
   "cell_type": "code",
   "execution_count": null,
   "id": "65f9be4a",
   "metadata": {},
   "outputs": [],
   "source": [
    "#coefficient of deter mination\n",
    "#r2 value =1 indicate that regression prediction perfectly fit the data\n",
    "metrics.r2_score(y_test,predictions)"
   ]
  }
 ],
 "metadata": {
  "kernelspec": {
   "display_name": "Python 3 (ipykernel)",
   "language": "python",
   "name": "python3"
  },
  "language_info": {
   "codemirror_mode": {
    "name": "ipython",
    "version": 3
   },
   "file_extension": ".py",
   "mimetype": "text/x-python",
   "name": "python",
   "nbconvert_exporter": "python",
   "pygments_lexer": "ipython3",
   "version": "3.11.2"
  }
 },
 "nbformat": 4,
 "nbformat_minor": 5
}
