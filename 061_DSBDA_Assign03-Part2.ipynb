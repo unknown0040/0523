{
 "cells": [
  {
   "cell_type": "code",
   "execution_count": null,
   "id": "5555525f",
   "metadata": {},
   "outputs": [],
   "source": [
    "import numpy as np\n",
    "import pandas as pd\n",
    "import matplotlib.pyplot as plt"
   ]
  },
  {
   "cell_type": "code",
   "execution_count": null,
   "id": "606cdc8a",
   "metadata": {},
   "outputs": [],
   "source": [
    "data = pd.read_csv(\"03-2Anti.csv\")"
   ]
  },
  {
   "cell_type": "code",
   "execution_count": null,
   "id": "94a5b7ab",
   "metadata": {},
   "outputs": [],
   "source": [
    "data"
   ]
  },
  {
   "cell_type": "code",
   "execution_count": null,
   "id": "e3ac8b10",
   "metadata": {},
   "outputs": [],
   "source": [
    "bins = np.linspace(min(data['V1']), max(data['V1']), 6)\n",
    "bins"
   ]
  },
  {
   "cell_type": "code",
   "execution_count": null,
   "id": "b52e5f86",
   "metadata": {},
   "outputs": [],
   "source": [
    "group_names = [\"b1\", \"b2\", \"b3\", \"b4\", \"b5\"]"
   ]
  },
  {
   "cell_type": "code",
   "execution_count": null,
   "id": "d205c04f",
   "metadata": {},
   "outputs": [],
   "source": [
    "data['Eqwidth_bin'] = pd.cut(data['V1'], bins, labels = group_names, include_lowest = True)"
   ]
  },
  {
   "cell_type": "code",
   "execution_count": null,
   "id": "dfe96d19",
   "metadata": {},
   "outputs": [],
   "source": [
    "data"
   ]
  },
  {
   "cell_type": "code",
   "execution_count": null,
   "id": "9ce2212d",
   "metadata": {},
   "outputs": [],
   "source": [
    "data['Eqfreq_bins'] = pd.qcut(data['V1'], q=5, labels = ['f1', 'f2', 'f3', 'f4', 'f5'])"
   ]
  },
  {
   "cell_type": "code",
   "execution_count": null,
   "id": "7a9426fa",
   "metadata": {},
   "outputs": [],
   "source": [
    "data"
   ]
  },
  {
   "cell_type": "code",
   "execution_count": null,
   "id": "f72e5e38",
   "metadata": {},
   "outputs": [],
   "source": [
    "condition1 = data['Eqwidth_bin'] == 'b1'\n",
    "condition2 = data['Eqwidth_bin'] == 'b5'"
   ]
  },
  {
   "cell_type": "code",
   "execution_count": null,
   "id": "f7fbae53",
   "metadata": {},
   "outputs": [],
   "source": [
    "group1 = data[condition1].groupby('Eqwidth_bin')['V1'].transform(list)"
   ]
  },
  {
   "cell_type": "code",
   "execution_count": null,
   "id": "c7a40217",
   "metadata": {},
   "outputs": [],
   "source": [
    "group2 = data[condition2].groupby('Eqwidth_bin')['V1'].transform(list)"
   ]
  },
  {
   "cell_type": "code",
   "execution_count": null,
   "id": "4d7c53d1",
   "metadata": {},
   "outputs": [],
   "source": [
    "data['group1'] = group1\n",
    "data['group2'] = group2"
   ]
  },
  {
   "cell_type": "code",
   "execution_count": null,
   "id": "05e291cd",
   "metadata": {},
   "outputs": [],
   "source": [
    "data"
   ]
  },
  {
   "cell_type": "code",
   "execution_count": null,
   "id": "8530ecef",
   "metadata": {},
   "outputs": [],
   "source": [
    "g1_mean = data['group1'].mean()\n",
    "g1_median = data['group1'].median()\n",
    "g1_q1 = data['group1'].quantile(0.25)\n",
    "g1_q3 = data['group1'].quantile(0.75)\n",
    "g1_std = data['group1'].std()\n",
    "\n",
    "print(g1_mean)\n",
    "print(g1_median)\n",
    "print(g1_q1)\n",
    "print(g1_q3)\n",
    "print(g1_std)"
   ]
  },
  {
   "cell_type": "code",
   "execution_count": null,
   "id": "c42d587c",
   "metadata": {},
   "outputs": [],
   "source": [
    "g2_mean = data['group2'].mean()\n",
    "g2_median = data['group2'].median()\n",
    "g2_q1 = data['group2'].quantile(0.25)\n",
    "g2_q3 = data['group2'].quantile(0.75)\n",
    "g2_std = data['group2'].std()\n",
    "\n",
    "print(g2_mean)\n",
    "print(g2_median)\n",
    "print(g2_q1)\n",
    "print(g2_q3)\n",
    "print(g2_std)"
   ]
  },
  {
   "cell_type": "code",
   "execution_count": null,
   "id": "9962ad67",
   "metadata": {},
   "outputs": [],
   "source": [
    "fig, ax = plt.subplots()\n",
    "ax.boxplot([data[data['Eqwidth_bin'] == 'b1']['group1']])\n",
    "ax.set_xticklabels(['b1'])\n",
    "\n",
    "ax.set_title('Boxplot of group1')\n",
    "ax.set_xlabel('Eqwidth_bin')\n",
    "ax.set_ylabel('Virus measure for group1')\n",
    "\n",
    "plt.show()"
   ]
  },
  {
   "cell_type": "code",
   "execution_count": null,
   "id": "e85ea9fd",
   "metadata": {},
   "outputs": [],
   "source": [
    "fig, ax = plt.subplots()\n",
    "ax.boxplot([data[data['Eqwidth_bin'] == 'b5']['group2']])\n",
    "ax.set_xticklabels(['b5'])\n",
    "\n",
    "ax.set_title('Boxplot of group2')\n",
    "ax.set_xlabel('Eqwidth_bin')\n",
    "ax.set_ylabel('Virus measure for group2')\n",
    "\n",
    "plt.show()"
   ]
  },
  {
   "cell_type": "code",
   "execution_count": null,
   "id": "c95ebbc0",
   "metadata": {},
   "outputs": [],
   "source": [
    "# Normalization of group1 for AntiA\n",
    "data.loc[data['Eqwidth_bin'] == 'b1', 'normalized_antiA_g1'] = (data.loc[data['Eqwidth_bin'] == 'b1', 'ANTI_A'] -  data.loc[data['Eqwidth_bin'] == 'b1', 'ANTI_A'].min())/ (data.loc[data['Eqwidth_bin'] == 'b1', 'ANTI_A'].max()-data.loc[data['Eqwidth_bin'] == 'b1', 'ANTI_A'].min())"
   ]
  },
  {
   "cell_type": "code",
   "execution_count": null,
   "id": "05dbef3f",
   "metadata": {},
   "outputs": [],
   "source": [
    "data['normalized_antiA_g1']"
   ]
  },
  {
   "cell_type": "code",
   "execution_count": null,
   "id": "97ea8e86",
   "metadata": {},
   "outputs": [],
   "source": [
    "# Normalization of group1 for AntiB\n",
    "data.loc[data['Eqwidth_bin'] == 'b1', 'normalized_antiB_g1'] = (data.loc[data['Eqwidth_bin'] == 'b1', 'ANTI_B'] -  data.loc[data['Eqwidth_bin'] == 'b1', 'ANTI_B'].min())/ (data.loc[data['Eqwidth_bin'] == 'b1', 'ANTI_B'].max()-data.loc[data['Eqwidth_bin'] == 'b1', 'ANTI_B'].min())"
   ]
  },
  {
   "cell_type": "code",
   "execution_count": null,
   "id": "482226c0",
   "metadata": {},
   "outputs": [],
   "source": [
    "data['normalized_antiB_g1']"
   ]
  },
  {
   "cell_type": "code",
   "execution_count": null,
   "id": "fb00cd48",
   "metadata": {},
   "outputs": [],
   "source": [
    "# Normalization of group2 for AntiA & AntiB\n",
    "data.loc[data['Eqwidth_bin'] == 'b5', 'normalized_antiA_g2'] = (data.loc[data['Eqwidth_bin'] == 'b5', 'ANTI_A'] -  data.loc[data['Eqwidth_bin'] == 'b5', 'ANTI_A'].min())/ (data.loc[data['Eqwidth_bin'] == 'b5', 'ANTI_A'].max()-data.loc[data['Eqwidth_bin'] == 'b5', 'ANTI_A'].min())\n",
    "\n",
    "data.loc[data['Eqwidth_bin'] == 'b5', 'normalized_antiB_g2'] = (data.loc[data['Eqwidth_bin'] == 'b5', 'ANTI_B'] -  data.loc[data['Eqwidth_bin'] == 'b5', 'ANTI_B'].min())/ (data.loc[data['Eqwidth_bin'] == 'b5', 'ANTI_B'].max()-data.loc[data['Eqwidth_bin'] == 'b5', 'ANTI_B'].min())"
   ]
  },
  {
   "cell_type": "code",
   "execution_count": null,
   "id": "f63461fd",
   "metadata": {},
   "outputs": [],
   "source": [
    "data['normalized_antiA_g2']"
   ]
  },
  {
   "cell_type": "code",
   "execution_count": null,
   "id": "9b3b63e1",
   "metadata": {},
   "outputs": [],
   "source": [
    "data['normalized_antiB_g2']"
   ]
  },
  {
   "cell_type": "code",
   "execution_count": null,
   "id": "32eab878",
   "metadata": {},
   "outputs": [],
   "source": [
    "# Scatterplot for Group 1 AntiA\n",
    "plt.scatter(data['group1'], data['normalized_antiA_g1'])\n",
    "plt.title('Scatter_A_G1')\n",
    "plt.ylabel('normalized_antiA_g1')\n",
    "plt.xlabel('group1')\n",
    "plt.show()"
   ]
  },
  {
   "cell_type": "code",
   "execution_count": null,
   "id": "a8ad17ea",
   "metadata": {},
   "outputs": [],
   "source": [
    "# Scatterplot for Group 1 AntiB\n",
    "plt.scatter(data['group1'], data['normalized_antiB_g1'])\n",
    "plt.title('Scatter_B_G1')\n",
    "plt.ylabel('normalized_antiB_g1')\n",
    "plt.xlabel('group1')\n",
    "plt.show()"
   ]
  },
  {
   "cell_type": "code",
   "execution_count": null,
   "id": "bacf4f8c",
   "metadata": {},
   "outputs": [],
   "source": [
    "# Scatterplot for Group 2 AntiA\n",
    "plt.scatter(data['group2'], data['normalized_antiA_g2'])\n",
    "plt.title('Scatter_A_G2')\n",
    "plt.ylabel('normalized_antiA_g2')\n",
    "plt.xlabel('group2')\n",
    "plt.show()"
   ]
  },
  {
   "cell_type": "code",
   "execution_count": null,
   "id": "cd7de369",
   "metadata": {},
   "outputs": [],
   "source": [
    "# Scatterplot for Group 2 AntiB\n",
    "plt.scatter(data['group2'], data['normalized_antiB_g2'])\n",
    "plt.title('Scatter_B_G2')\n",
    "plt.ylabel('normalized_antiB_g2')\n",
    "plt.xlabel('group2')\n",
    "plt.show()"
   ]
  },
  {
   "cell_type": "code",
   "execution_count": null,
   "id": "d96fa55a",
   "metadata": {},
   "outputs": [],
   "source": [
    "# correlation of all AntiA & AntiB in Group1\n",
    "corr_g1 = data['normalized_antiA_g1'].corr(data['normalized_antiB_g1'])\n",
    "corr_g1"
   ]
  },
  {
   "cell_type": "code",
   "execution_count": null,
   "id": "2c829b1e",
   "metadata": {},
   "outputs": [],
   "source": [
    "# correlation of all AntiA & AntiB in Group2\n",
    "corr_g2 = data['normalized_antiA_g2'].corr(data['normalized_antiB_g2'])\n",
    "corr_g2"
   ]
  },
  {
   "cell_type": "code",
   "execution_count": null,
   "id": "48ff5e5f",
   "metadata": {},
   "outputs": [],
   "source": [
    "data.to_csv('assign3_part2.csv')"
   ]
  }
 ],
 "metadata": {
  "kernelspec": {
   "display_name": "Python 3 (ipykernel)",
   "language": "python",
   "name": "python3"
  },
  "language_info": {
   "codemirror_mode": {
    "name": "ipython",
    "version": 3
   },
   "file_extension": ".py",
   "mimetype": "text/x-python",
   "name": "python",
   "nbconvert_exporter": "python",
   "pygments_lexer": "ipython3",
   "version": "3.11.2"
  }
 },
 "nbformat": 4,
 "nbformat_minor": 5
}
