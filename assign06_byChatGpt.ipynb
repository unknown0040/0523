{
 "cells": [
  {
   "cell_type": "code",
   "execution_count": null,
   "id": "a714340d",
   "metadata": {},
   "outputs": [],
   "source": [
    "import pandas as pd\n",
    "import matplotlib.pyplot as plt\n",
    "from sklearn.model_selection import train_test_split\n",
    "from sklearn.naive_bayes import GaussianNB\n",
    "from sklearn.metrics import confusion_matrix,ConfusionMatrixDisplay, accuracy_score, precision_score, recall_score"
   ]
  },
  {
   "cell_type": "code",
   "execution_count": null,
   "id": "762f3f48",
   "metadata": {},
   "outputs": [],
   "source": [
    "# Load the CSV file into a pandas DataFrame\n",
    "data = pd.read_csv('06Iris.csv')"
   ]
  },
  {
   "cell_type": "code",
   "execution_count": null,
   "id": "7a59d74a",
   "metadata": {},
   "outputs": [],
   "source": [
    "data"
   ]
  },
  {
   "cell_type": "code",
   "execution_count": null,
   "id": "fe1e2293",
   "metadata": {},
   "outputs": [],
   "source": [
    "# Split the dataset into features (X) and target (y)\n",
    "X = data[['SepalLengthCm', 'SepalWidthCm', 'PetalLengthCm', 'PetalWidthCm']]\n",
    "y = data['Species']"
   ]
  },
  {
   "cell_type": "code",
   "execution_count": null,
   "id": "2e96e999",
   "metadata": {},
   "outputs": [],
   "source": [
    "# Split the data into training and testing sets\n",
    "X_train, X_test, y_train, y_test = train_test_split(X, y, test_size=0.2, random_state=42)"
   ]
  },
  {
   "cell_type": "code",
   "execution_count": null,
   "id": "432dac15",
   "metadata": {},
   "outputs": [],
   "source": [
    "# Initialize and train the Naïve Bayes classifier\n",
    "model = GaussianNB()\n",
    "model.fit(X_train, y_train)"
   ]
  },
  {
   "cell_type": "code",
   "execution_count": null,
   "id": "73c1b73b",
   "metadata": {},
   "outputs": [],
   "source": [
    "# Perform predictions on the test set\n",
    "y_pred = model.predict(X_test)"
   ]
  },
  {
   "cell_type": "code",
   "execution_count": null,
   "id": "7ccbf9c0",
   "metadata": {},
   "outputs": [],
   "source": [
    "# Compute the confusion matrix\n",
    "matrix = confusion_matrix(y_test, y_pred)\n",
    "print('Confusion Matrix:')\n",
    "print(matrix)"
   ]
  },
  {
   "cell_type": "code",
   "execution_count": null,
   "id": "689713f8",
   "metadata": {},
   "outputs": [],
   "source": [
    "data['Species'].value_counts()"
   ]
  },
  {
   "cell_type": "code",
   "execution_count": null,
   "id": "20ea4830",
   "metadata": {},
   "outputs": [],
   "source": [
    "lbs=['Iris-setosa','Iris-versicolor','Iris-virginica']\n",
    "conf_matrix = ConfusionMatrixDisplay(confusion_matrix=matrix,display_labels=lbs)\n",
    "# conf_matrix.plot(cmap=plt.cm.YlGn)\n",
    "conf_matrix.plot()\n",
    "plt.show()"
   ]
  },
  {
   "cell_type": "code",
   "execution_count": null,
   "id": "1f3c5193",
   "metadata": {},
   "outputs": [],
   "source": [
    "print(\"For Iris Setosa:\")\n",
    "tp=matrix[0][0]\n",
    "tn=matrix[1][1]+matrix[1][2]+matrix[2][1]+matrix[2][2]\n",
    "fp=matrix[0][1]+matrix[0][2]\n",
    "fn=matrix[1][0]+matrix[2][0]\n",
    "print(\"TP = \",tp)\n",
    "print(\"FP = \",fp)\n",
    "print(\"TN = \",tn)\n",
    "print(\"FN = \",fn)\n",
    "\n",
    "print(\"For Iris versicolor:\")\n",
    "tp=matrix[0][0]\n",
    "tn=matrix[1][1]+matrix[1][2]+matrix[2][1]+matrix[2][2]\n",
    "fp=matrix[0][1]+matrix[0][2]\n",
    "fn=matrix[1][0]+matrix[2][0]\n",
    "print(\"TP = \",tp)\n",
    "print(\"FP = \",fp)\n",
    "print(\"TN = \",tn)\n",
    "print(\"FN = \",fn)\n",
    "\n",
    "print(\"For Iris virginica:\")\n",
    "tp=matrix[0][0]\n",
    "tn=matrix[1][1]+matrix[1][2]+matrix[2][1]+matrix[2][2]\n",
    "fp=matrix[0][1]+matrix[0][2]\n",
    "fn=matrix[1][0]+matrix[2][0]\n",
    "print(\"TP = \",tp)\n",
    "print(\"FP = \",fp)\n",
    "print(\"TN = \",tn)\n",
    "print(\"FN = \",fn)"
   ]
  },
  {
   "cell_type": "code",
   "execution_count": null,
   "id": "47e10150",
   "metadata": {},
   "outputs": [],
   "source": [
    "# Compute evaluation metrics\n",
    "accuracy = accuracy_score(y_test, y_pred)\n",
    "error_rate = 1 - accuracy\n",
    "precision = precision_score(y_test, y_pred, average='weighted')\n",
    "recall = recall_score(y_test, y_pred, average='weighted')\n",
    "\n",
    "print('Accuracy:', accuracy)\n",
    "print('Error Rate:', error_rate)\n",
    "print('Precision:', precision)\n",
    "print('Recall:', recall)"
   ]
  }
 ],
 "metadata": {
  "kernelspec": {
   "display_name": "Python 3 (ipykernel)",
   "language": "python",
   "name": "python3"
  },
  "language_info": {
   "codemirror_mode": {
    "name": "ipython",
    "version": 3
   },
   "file_extension": ".py",
   "mimetype": "text/x-python",
   "name": "python",
   "nbconvert_exporter": "python",
   "pygments_lexer": "ipython3",
   "version": "3.11.2"
  }
 },
 "nbformat": 4,
 "nbformat_minor": 5
}
