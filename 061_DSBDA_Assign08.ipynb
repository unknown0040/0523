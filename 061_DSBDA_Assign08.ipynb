{
 "cells": [
  {
   "cell_type": "code",
   "execution_count": null,
   "id": "3dbf281d",
   "metadata": {},
   "outputs": [],
   "source": [
    "import numpy as np\n",
    "import pandas as pd\n",
    "import matplotlib.pyplot as plt\n",
    "%matplotlib inline\n",
    "import seaborn as sns"
   ]
  },
  {
   "cell_type": "code",
   "execution_count": null,
   "id": "45a6d932",
   "metadata": {},
   "outputs": [],
   "source": [
    "data = sns.load_dataset('titanic')"
   ]
  },
  {
   "cell_type": "code",
   "execution_count": null,
   "id": "5a9f41e8",
   "metadata": {},
   "outputs": [],
   "source": [
    "data.info()"
   ]
  },
  {
   "cell_type": "code",
   "execution_count": null,
   "id": "eff061a3",
   "metadata": {},
   "outputs": [],
   "source": [
    "data.describe()"
   ]
  },
  {
   "cell_type": "code",
   "execution_count": null,
   "id": "5934f641",
   "metadata": {},
   "outputs": [],
   "source": [
    "data.head()"
   ]
  },
  {
   "cell_type": "code",
   "execution_count": null,
   "id": "135a8d72",
   "metadata": {},
   "outputs": [],
   "source": [
    "sns.pairplot(data)"
   ]
  },
  {
   "cell_type": "code",
   "execution_count": null,
   "id": "4aafd794",
   "metadata": {},
   "outputs": [],
   "source": [
    "sns.countplot(x='sex', hue='survived', data=data)\n",
    "plt.title('Countplot for survival according to gender')"
   ]
  },
  {
   "cell_type": "code",
   "execution_count": null,
   "id": "8fb2ca49",
   "metadata": {},
   "outputs": [],
   "source": [
    "sns.countplot(x='class', hue='survived', data=data)\n",
    "plt.title('Countplot for survival according to class')"
   ]
  },
  {
   "cell_type": "code",
   "execution_count": null,
   "id": "2b797abe",
   "metadata": {},
   "outputs": [],
   "source": [
    "sns.jointplot(x='age', y='fare', data=data)"
   ]
  },
  {
   "cell_type": "code",
   "execution_count": null,
   "id": "26e15f70",
   "metadata": {},
   "outputs": [],
   "source": [
    "sns.jointplot(x='sex', y='fare', data=data)"
   ]
  },
  {
   "cell_type": "code",
   "execution_count": null,
   "id": "7868dde9",
   "metadata": {},
   "outputs": [],
   "source": [
    "sns.distplot(x=data['age'])\n",
    "plt.title('Distribution for age')"
   ]
  },
  {
   "cell_type": "code",
   "execution_count": null,
   "id": "a4ff614c",
   "metadata": {},
   "outputs": [],
   "source": [
    "sns.distplot(data['fare'])\n",
    "plt.title('Distribution for fare')"
   ]
  },
  {
   "cell_type": "code",
   "execution_count": null,
   "id": "6840fc21",
   "metadata": {},
   "outputs": [],
   "source": [
    "sns.barplot(x='age', y='fare', data=data)\n",
    "plt.title('Fare VS Age')"
   ]
  },
  {
   "cell_type": "code",
   "execution_count": null,
   "id": "a63676af",
   "metadata": {},
   "outputs": [],
   "source": [
    "sns.barplot(x='sex', y='fare', data=data)\n",
    "plt.title('Fare VS Gender')"
   ]
  },
  {
   "cell_type": "code",
   "execution_count": null,
   "id": "32c5f978",
   "metadata": {},
   "outputs": [],
   "source": [
    "sns.barplot(x='sex', y='age', data=data)\n",
    "plt.title('Barplot for mean age according to gender')"
   ]
  },
  {
   "cell_type": "code",
   "execution_count": null,
   "id": "35fdab9f",
   "metadata": {},
   "outputs": [],
   "source": [
    "sns.barplot(x='class', y='age', data=data)\n",
    "plt.title('Barplot for mean age according to class')"
   ]
  },
  {
   "cell_type": "code",
   "execution_count": null,
   "id": "02d09f51",
   "metadata": {},
   "outputs": [],
   "source": [
    "sns.barplot(x='sex', y='age', hue='survived', data=data)\n",
    "plt.title('Barplot for mean age of survival according to age')"
   ]
  },
  {
   "cell_type": "code",
   "execution_count": null,
   "id": "4d04fffd",
   "metadata": {},
   "outputs": [],
   "source": [
    "sns.barplot(x='class', y='age', hue='survived', data=data)\n",
    "plt.title('Barplot for mean age of survival according to class')"
   ]
  },
  {
   "cell_type": "code",
   "execution_count": null,
   "id": "c01c7986",
   "metadata": {},
   "outputs": [],
   "source": [
    "sns.boxplot(x='sex', y='age', data=data)\n",
    "plt.title('Boxplot for mean age according to age')"
   ]
  },
  {
   "cell_type": "code",
   "execution_count": null,
   "id": "f033dc83",
   "metadata": {},
   "outputs": [],
   "source": [
    "sns.boxplot(x='class', y='age', data=data)\n",
    "plt.title('Boxplot for mean age according to class')"
   ]
  },
  {
   "cell_type": "code",
   "execution_count": null,
   "id": "3f300a2e",
   "metadata": {},
   "outputs": [],
   "source": [
    "sns.boxplot(x='sex', y='age', hue='survived', data=data)\n",
    "plt.title('Boxplot for mean age of survival according to gender')"
   ]
  },
  {
   "cell_type": "code",
   "execution_count": null,
   "id": "4940f5a0",
   "metadata": {},
   "outputs": [],
   "source": [
    "sns.boxplot(x='class', y='age', hue='survived', data=data)\n",
    "plt.title('Boxplot for mean age of survival according to class')"
   ]
  },
  {
   "cell_type": "code",
   "execution_count": null,
   "id": "c1b402ba",
   "metadata": {},
   "outputs": [],
   "source": [
    "grp_age = np.linspace(min(data['age']), max(data['age']), 5)\n",
    "grp_age"
   ]
  },
  {
   "cell_type": "code",
   "execution_count": null,
   "id": "d92b35d9",
   "metadata": {},
   "outputs": [],
   "source": [
    "data['age-groups'] = pd.cut(data['age'], grp_age, labels=['Kid', 'Adult', 'Elder', 'Aged'], include_lowest=True)"
   ]
  },
  {
   "cell_type": "code",
   "execution_count": null,
   "id": "895ea3cb",
   "metadata": {},
   "outputs": [],
   "source": [
    "data"
   ]
  },
  {
   "cell_type": "code",
   "execution_count": null,
   "id": "7a9eee73",
   "metadata": {},
   "outputs": [],
   "source": [
    "count1 = 0\n",
    "count2 = 0\n",
    "for i in range(0, 891):\n",
    "    if data['age-groups'][i]=='Kid' and data['survived'][i]==1:\n",
    "        count1+=1\n",
    "    count2+=1\n",
    "rate1 = (count1/count2)*100\n",
    "rate1"
   ]
  },
  {
   "cell_type": "code",
   "execution_count": null,
   "id": "82a1c5f8",
   "metadata": {},
   "outputs": [],
   "source": [
    "count3 = 0\n",
    "count4 = 0\n",
    "for i in range(0, 891):\n",
    "    if data['age-groups'][i]=='Adult' and data['survived'][i]==1:\n",
    "        count3+=1\n",
    "    count4+=1\n",
    "rate2 = (count3/count4)*100\n",
    "rate2"
   ]
  },
  {
   "cell_type": "code",
   "execution_count": null,
   "id": "572ce8c0",
   "metadata": {},
   "outputs": [],
   "source": [
    "count5 = 0\n",
    "count6 = 0\n",
    "for i in range(0, 891):\n",
    "    if data['age-groups'][i]=='Elder' and data['survived'][i]==1:\n",
    "        count5+=1\n",
    "    count6+=1\n",
    "rate3 = (count5/count6)*100\n",
    "rate3"
   ]
  },
  {
   "cell_type": "code",
   "execution_count": null,
   "id": "35aba6d6",
   "metadata": {},
   "outputs": [],
   "source": [
    "count7 = 0\n",
    "count8 = 0\n",
    "for i in range(0, 891):\n",
    "    if data['age-groups'][i]=='Aged' and data['survived'][i]==1:\n",
    "        count7+=1\n",
    "    count8+=1\n",
    "rate4 = (count7/count8)*100\n",
    "rate4"
   ]
  },
  {
   "cell_type": "code",
   "execution_count": null,
   "id": "5bafeb8d",
   "metadata": {},
   "outputs": [],
   "source": [
    "survival_rate = [rate1, rate2, rate3, rate4]\n",
    "survival_rate"
   ]
  },
  {
   "cell_type": "code",
   "execution_count": null,
   "id": "e4c90a0f",
   "metadata": {},
   "outputs": [],
   "source": [
    "age_grp_names = ['Kid', 'Adult', 'Elder', 'Aged']\n",
    "age_grp_names"
   ]
  },
  {
   "cell_type": "code",
   "execution_count": null,
   "id": "b510c710",
   "metadata": {},
   "outputs": [],
   "source": [
    "plt.bar(age_grp_names, survival_rate, color = 'green', width=0.5)\n",
    "plt.xlabel('Age Groups')\n",
    "plt.ylabel('Survival rate in percentage')\n",
    "plt.title('Survival rate according to age bands(groups)')"
   ]
  },
  {
   "cell_type": "code",
   "execution_count": null,
   "id": "6ded36be",
   "metadata": {},
   "outputs": [],
   "source": [
    "sns.countplot(x='age', hue='survived', data=data)\n",
    "plt.title('Countplot for survival according to age')"
   ]
  }
 ],
 "metadata": {
  "kernelspec": {
   "display_name": "Python 3 (ipykernel)",
   "language": "python",
   "name": "python3"
  },
  "language_info": {
   "codemirror_mode": {
    "name": "ipython",
    "version": 3
   },
   "file_extension": ".py",
   "mimetype": "text/x-python",
   "name": "python",
   "nbconvert_exporter": "python",
   "pygments_lexer": "ipython3",
   "version": "3.11.2"
  }
 },
 "nbformat": 4,
 "nbformat_minor": 5
}
