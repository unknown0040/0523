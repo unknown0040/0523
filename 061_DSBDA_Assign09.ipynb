{
 "cells": [
  {
   "cell_type": "code",
   "execution_count": null,
   "id": "4e628f98",
   "metadata": {},
   "outputs": [],
   "source": [
    "import numpy as np\n",
    "import pandas as pd\n",
    "import seaborn as sns\n",
    "import matplotlib.pyplot as plt"
   ]
  },
  {
   "cell_type": "code",
   "execution_count": null,
   "id": "5890a99a",
   "metadata": {},
   "outputs": [],
   "source": [
    "data = pd.read_csv('09titanic.csv')\n",
    "data"
   ]
  },
  {
   "cell_type": "code",
   "execution_count": null,
   "id": "e366ac29",
   "metadata": {},
   "outputs": [],
   "source": [
    "data.info()"
   ]
  },
  {
   "cell_type": "code",
   "execution_count": null,
   "id": "9178d602",
   "metadata": {},
   "outputs": [],
   "source": [
    "data.describe()"
   ]
  },
  {
   "cell_type": "code",
   "execution_count": null,
   "id": "09ad5a05",
   "metadata": {},
   "outputs": [],
   "source": [
    "correlation_matrix = data.corr().round(2)\n",
    "sns.heatmap(data=correlation_matrix, annot=True)"
   ]
  },
  {
   "cell_type": "code",
   "execution_count": null,
   "id": "47261c25",
   "metadata": {},
   "outputs": [],
   "source": [
    "fig, ax = plt.subplots(figsize=(8, 6))\n",
    "\n",
    "sns.scatterplot(x=data[data['Sex']=='male']['Sex'], y='Age', data=data, hue='Survived')\n",
    "\n",
    "plt.title('Scatter plot for survival of male')"
   ]
  },
  {
   "cell_type": "code",
   "execution_count": null,
   "id": "6e9257d7",
   "metadata": {},
   "outputs": [],
   "source": [
    "fig, ax = plt.subplots(figsize=(3, 5))\n",
    "\n",
    "sns.scatterplot(x=data[data['Sex']=='female']['Sex'], y='Age', data=data, hue='Survived')\n",
    "\n",
    "plt.title('Scatter plot for survival of female')"
   ]
  },
  {
   "cell_type": "code",
   "execution_count": null,
   "id": "d9624833",
   "metadata": {},
   "outputs": [],
   "source": [
    "fig, ax = plt.subplots(figsize=(8, 6))\n",
    "\n",
    "sns.scatterplot(x='Sex', y='Age', data=data, hue='Survived')\n",
    "\n",
    "plt.title('Scatter plot for survival by Gender')"
   ]
  },
  {
   "cell_type": "code",
   "execution_count": null,
   "id": "20a36e53",
   "metadata": {},
   "outputs": [],
   "source": [
    "# Mean of Survivors\n",
    "\n",
    "mean_survived = data['Survived'].mean()\n",
    "mean_survived"
   ]
  },
  {
   "cell_type": "code",
   "execution_count": null,
   "id": "26974dbf",
   "metadata": {},
   "outputs": [],
   "source": [
    "fig, ax = plt.subplots(figsize=(11, 7))\n",
    "\n",
    "sns.stripplot(x='Pclass', y='Age', data=data, jitter=True, hue='Survived')\n",
    "\n",
    "plt.title('Stripplot for survival by Pclass')"
   ]
  },
  {
   "cell_type": "code",
   "execution_count": null,
   "id": "342b5784",
   "metadata": {},
   "outputs": [],
   "source": [
    "titanic = data\n",
    "\n",
    "male_pos = titanic[(titanic['Sex'] == 'male') & (titanic['Survived'] == 1)]['Age']\n",
    "male_neg = titanic[(titanic['Sex'] == 'male') & (titanic['Survived'] == 0)]['Age']\n",
    "female_pos = titanic[(titanic['Sex'] == 'female') & (titanic['Survived'] == 1)]['Age']\n",
    "female_neg = titanic[(titanic['Sex'] == 'female') & (titanic['Survived'] == 0)]['Age']\n",
    "\n",
    "fig, ax = plt.subplots(1, 1, figsize=(9, 7))\n",
    "np.random.seed(42)\n",
    "\n",
    "ax.scatter(np.random.uniform(-0.3, 0.3, len(male_pos)), male_pos, color='#004c70', edgecolor='lightgray', label='Male(Survived=1)')\n",
    "ax.scatter(np.random.uniform(-0.3, 0.3, len(male_neg)), male_neg, color='#004c70', edgecolor='lightgray', alpha=0.2, label='Male(Survived=0)')\n",
    "ax.scatter(1+np.random.uniform(-0.3, 0.3, len(female_pos)), female_pos, color='#990000', edgecolor='lightgray', label='Female(Survived=1)')\n",
    "ax.scatter(1+np.random.uniform(-0.3, 0.3, len(female_neg)), female_neg, color='#990000', edgecolor='lightgray', alpha=0.2, label='Female(Survived=0)')\n",
    "\n",
    "ax.set_xlim(-0.5, 2)\n",
    "ax.set_ylim(0, 85)\n",
    "ax.set_xticks([0, 1])\n",
    "ax.set_xticklabels(['Male', 'Female'])\n",
    "ax.set_yticks(range(0, 85, 10))\n",
    "\n",
    "ax.legend(loc='upper right')\n",
    "ax.set_title('Survival of Passengers by Gender and Age')\n",
    "ax.set_xlabel('Gender')\n",
    "ax.set_ylabel('Age')\n",
    "\n",
    "plt.show()"
   ]
  }
 ],
 "metadata": {
  "kernelspec": {
   "display_name": "Python 3 (ipykernel)",
   "language": "python",
   "name": "python3"
  },
  "language_info": {
   "codemirror_mode": {
    "name": "ipython",
    "version": 3
   },
   "file_extension": ".py",
   "mimetype": "text/x-python",
   "name": "python",
   "nbconvert_exporter": "python",
   "pygments_lexer": "ipython3",
   "version": "3.11.2"
  }
 },
 "nbformat": 4,
 "nbformat_minor": 5
}
