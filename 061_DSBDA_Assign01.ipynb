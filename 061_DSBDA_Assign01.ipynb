{
 "cells": [
  {
   "cell_type": "markdown",
   "id": "c821ffec",
   "metadata": {},
   "source": [
    "### Name: Ayyaan\n",
    "### Batch: T2\n",
    "### Roll no. 061"
   ]
  },
  {
   "cell_type": "code",
   "execution_count": null,
   "id": "1f52a548",
   "metadata": {},
   "outputs": [],
   "source": [
    "import numpy as np \n",
    "import pandas as pd\n",
    "\n",
    "import nltk\n",
    "nltk.download('punkt')\n",
    "nltk.download('stopwords')\n",
    "nltk.download('wordnet')\n",
    "nltk.download('averaged_perceptron_tagger')"
   ]
  },
  {
   "cell_type": "code",
   "execution_count": null,
   "id": "0d11e3f6",
   "metadata": {},
   "outputs": [],
   "source": [
    "cols = ['symboling', 'normalized-losses', 'make', 'fuel-type', 'aspiration', 'num-of-doors', 'body-style', 'drive-wheels', 'engine-location', 'wheel-base', 'length', 'width', 'height', 'curb-weight', 'engine-type', 'num-of-cylinders', 'engine-size', 'fuel-system', 'bore', 'stroke', 'compression-ratio', 'horsepower', 'peak-rpm', 'city-mpg', 'highway-mpg', 'price']\n",
    "data = pd.read_csv('01auto.csv', names=cols)\n",
    "data"
   ]
  },
  {
   "cell_type": "code",
   "execution_count": null,
   "id": "6e1fb435",
   "metadata": {},
   "outputs": [],
   "source": [
    "data.describe()"
   ]
  },
  {
   "cell_type": "code",
   "execution_count": null,
   "id": "8c64cb25",
   "metadata": {},
   "outputs": [],
   "source": [
    "data.head()"
   ]
  },
  {
   "cell_type": "code",
   "execution_count": null,
   "id": "6827cabd",
   "metadata": {},
   "outputs": [],
   "source": [
    "data.tail()"
   ]
  },
  {
   "cell_type": "code",
   "execution_count": null,
   "id": "e74d7254",
   "metadata": {},
   "outputs": [],
   "source": [
    "data.dtypes"
   ]
  },
  {
   "cell_type": "code",
   "execution_count": null,
   "id": "6c299ecf",
   "metadata": {},
   "outputs": [],
   "source": [
    "data.replace(\"?\", np.NaN, inplace=True) # replacing ? with Null value (Not a Number)\n",
    "data"
   ]
  },
  {
   "cell_type": "code",
   "execution_count": null,
   "id": "2b450e7b",
   "metadata": {},
   "outputs": [],
   "source": [
    "data.isnull()"
   ]
  },
  {
   "cell_type": "code",
   "execution_count": null,
   "id": "502a1b05",
   "metadata": {},
   "outputs": [],
   "source": [
    "data.notnull()"
   ]
  },
  {
   "cell_type": "code",
   "execution_count": null,
   "id": "9ed39740",
   "metadata": {},
   "outputs": [],
   "source": [
    "# null value present in any column\n",
    "data.isnull().any()"
   ]
  },
  {
   "cell_type": "code",
   "execution_count": null,
   "id": "ec8019f7",
   "metadata": {},
   "outputs": [],
   "source": [
    "# null value present anywhere in data set\n",
    "data.isnull().any().any()"
   ]
  },
  {
   "cell_type": "code",
   "execution_count": null,
   "id": "6d23bb36",
   "metadata": {},
   "outputs": [],
   "source": [
    "data.isnull().sum()"
   ]
  },
  {
   "cell_type": "code",
   "execution_count": null,
   "id": "ed0010f8",
   "metadata": {},
   "outputs": [],
   "source": [
    "data.shape"
   ]
  },
  {
   "cell_type": "code",
   "execution_count": null,
   "id": "76c953d3",
   "metadata": {},
   "outputs": [],
   "source": [
    "# changing data types to float\n",
    "data['normalized-losses'] = data['normalized-losses'].astype('float')\n",
    "data['bore'] = data['bore'].astype('float')\n",
    "data['stroke'] = data['stroke'].astype('float')\n",
    "data['horsepower'] = data['horsepower'].astype('float')\n",
    "data['peak-rpm'] = data['peak-rpm'].astype('float')"
   ]
  },
  {
   "cell_type": "code",
   "execution_count": null,
   "id": "85293244",
   "metadata": {},
   "outputs": [],
   "source": [
    "for i in cols:\n",
    "    if data[i].isnull().any()==True and (data[i].dtype==\"int64\" or data[i].dtype==\"float64\"):\n",
    "        avg = data[i].mean()\n",
    "        data[i].replace(np.NaN, avg, inplace=True)"
   ]
  },
  {
   "cell_type": "code",
   "execution_count": null,
   "id": "fd1f983a",
   "metadata": {},
   "outputs": [],
   "source": [
    "data.isnull().sum()"
   ]
  },
  {
   "cell_type": "code",
   "execution_count": null,
   "id": "511aa0de",
   "metadata": {},
   "outputs": [],
   "source": [
    "data['num-of-doors'].value_counts()"
   ]
  },
  {
   "cell_type": "code",
   "execution_count": null,
   "id": "fef1aff8",
   "metadata": {},
   "outputs": [],
   "source": [
    "# replacing NaN with max value\n",
    "maxx = data['num-of-doors'].value_counts().idxmax()\n",
    "data['num-of-doors'].replace(np.NaN, maxx, inplace=True)\n",
    "data.isnull().sum()"
   ]
  },
  {
   "cell_type": "code",
   "execution_count": null,
   "id": "27e97a6a",
   "metadata": {},
   "outputs": [],
   "source": [
    "data.shape"
   ]
  },
  {
   "cell_type": "code",
   "execution_count": null,
   "id": "91b0b1d3",
   "metadata": {
    "scrolled": true
   },
   "outputs": [],
   "source": [
    "data.shape[0]"
   ]
  },
  {
   "cell_type": "code",
   "execution_count": null,
   "id": "7246058b",
   "metadata": {},
   "outputs": [],
   "source": [
    "before_rows = data.shape[0]\n",
    "data.dropna(subset=['price'], axis=0, inplace=True)\n",
    "after_rows = data.shape[0]\n",
    "print(\"Number of rows dropped = \", before_rows-after_rows)\n",
    "data.reset_index(drop=True, inplace=True)"
   ]
  },
  {
   "cell_type": "code",
   "execution_count": null,
   "id": "53d862a7",
   "metadata": {},
   "outputs": [],
   "source": [
    "data.shape"
   ]
  },
  {
   "cell_type": "code",
   "execution_count": null,
   "id": "44992bc7",
   "metadata": {},
   "outputs": [],
   "source": [
    "data.dtypes"
   ]
  },
  {
   "cell_type": "code",
   "execution_count": null,
   "id": "88662eda",
   "metadata": {},
   "outputs": [],
   "source": [
    "data"
   ]
  },
  {
   "cell_type": "code",
   "execution_count": null,
   "id": "d60007bc",
   "metadata": {},
   "outputs": [],
   "source": [
    "data['normalized-losses'] = data['normalized-losses'].astype(\"int\")\n",
    "data['bore'] = data['bore'].astype(\"float\")\n",
    "data['stroke'] = data['stroke'].astype('float')\n",
    "data['peak-rpm'] = data['peak-rpm'].astype('int')\n",
    "data['price'] = data['price'].astype('int')"
   ]
  },
  {
   "cell_type": "code",
   "execution_count": null,
   "id": "71ce132c",
   "metadata": {},
   "outputs": [],
   "source": [
    "data.dtypes"
   ]
  },
  {
   "cell_type": "code",
   "execution_count": null,
   "id": "ae71360a",
   "metadata": {},
   "outputs": [],
   "source": [
    "data"
   ]
  },
  {
   "cell_type": "code",
   "execution_count": null,
   "id": "55dd5173",
   "metadata": {},
   "outputs": [],
   "source": [
    "# mpg (miles/gallon) to L/100km conversion\n",
    "data['city-mpg'] = 235/data['city-mpg']\n",
    "data['highway-mpg'] = 235/data['highway-mpg']\n",
    "data.rename(columns = {'city-mpg': 'city-L/100km'}, inplace=True)\n",
    "data.rename(columns = {'highway-mpg': 'highway-L/100km'}, inplace=True)\n",
    "data"
   ]
  },
  {
   "cell_type": "code",
   "execution_count": null,
   "id": "e3cdc791",
   "metadata": {},
   "outputs": [],
   "source": [
    "data['length'] = data['length']/data['length'].max()\n",
    "data['width'] = data['width']/data['width'].max()\n",
    "data['height'] = data['height']/data['height'].max()"
   ]
  },
  {
   "cell_type": "code",
   "execution_count": null,
   "id": "5ea71fa9",
   "metadata": {},
   "outputs": [],
   "source": [
    "data['length']"
   ]
  },
  {
   "cell_type": "code",
   "execution_count": null,
   "id": "3d985790",
   "metadata": {},
   "outputs": [],
   "source": [
    "data['width']"
   ]
  },
  {
   "cell_type": "code",
   "execution_count": null,
   "id": "2ae8f75c",
   "metadata": {},
   "outputs": [],
   "source": [
    "data['height']"
   ]
  },
  {
   "cell_type": "code",
   "execution_count": null,
   "id": "56da5a9b",
   "metadata": {},
   "outputs": [],
   "source": [
    "data"
   ]
  },
  {
   "cell_type": "code",
   "execution_count": null,
   "id": "610fc00d",
   "metadata": {},
   "outputs": [],
   "source": [
    "data.to_csv('wrangled_data.csv')"
   ]
  }
 ],
 "metadata": {
  "kernelspec": {
   "display_name": "Python 3 (ipykernel)",
   "language": "python",
   "name": "python3"
  },
  "language_info": {
   "codemirror_mode": {
    "name": "ipython",
    "version": 3
   },
   "file_extension": ".py",
   "mimetype": "text/x-python",
   "name": "python",
   "nbconvert_exporter": "python",
   "pygments_lexer": "ipython3",
   "version": "3.11.2"
  }
 },
 "nbformat": 4,
 "nbformat_minor": 5
}
