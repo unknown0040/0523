{
 "cells": [
  {
   "cell_type": "code",
   "execution_count": null,
   "id": "4ee867f4",
   "metadata": {},
   "outputs": [],
   "source": [
    "import pandas as pd\n",
    "import numpy as np"
   ]
  },
  {
   "cell_type": "code",
   "execution_count": null,
   "id": "78be5057",
   "metadata": {},
   "outputs": [],
   "source": [
    "data = pd.read_csv('02EduData.csv') \n",
    "data"
   ]
  },
  {
   "cell_type": "code",
   "execution_count": null,
   "id": "f111da04",
   "metadata": {},
   "outputs": [],
   "source": [
    "data.describe()"
   ]
  },
  {
   "cell_type": "code",
   "execution_count": null,
   "id": "26c3d4e6",
   "metadata": {},
   "outputs": [],
   "source": [
    "data = data.replace(\"?\", np.NaN)\n",
    "data.head()"
   ]
  },
  {
   "cell_type": "code",
   "execution_count": null,
   "id": "7bed415e",
   "metadata": {},
   "outputs": [],
   "source": [
    "data.isnull().sum()"
   ]
  },
  {
   "cell_type": "code",
   "execution_count": null,
   "id": "0c68ea42",
   "metadata": {},
   "outputs": [],
   "source": [
    "data.dtypes"
   ]
  },
  {
   "cell_type": "code",
   "execution_count": null,
   "id": "011528e1",
   "metadata": {},
   "outputs": [],
   "source": [
    "data[\"Topic\"].value_counts()"
   ]
  },
  {
   "cell_type": "code",
   "execution_count": null,
   "id": "357df15c",
   "metadata": {},
   "outputs": [],
   "source": [
    "maxx = data[\"Topic\"].value_counts().idxmax()\n",
    "maxx"
   ]
  },
  {
   "cell_type": "code",
   "execution_count": null,
   "id": "52afe468",
   "metadata": {},
   "outputs": [],
   "source": [
    "data['Topic'].replace(np.NaN, maxx, inplace=True)"
   ]
  },
  {
   "cell_type": "code",
   "execution_count": null,
   "id": "d3985222",
   "metadata": {},
   "outputs": [],
   "source": [
    "data['Topic'].isnull().sum()"
   ]
  },
  {
   "cell_type": "code",
   "execution_count": null,
   "id": "cfccb08c",
   "metadata": {},
   "outputs": [],
   "source": [
    "data.isnull().sum()"
   ]
  },
  {
   "cell_type": "code",
   "execution_count": null,
   "id": "dd129361",
   "metadata": {},
   "outputs": [],
   "source": [
    "data = data.dropna(subset = ['Relation','GradeID'])"
   ]
  },
  {
   "cell_type": "code",
   "execution_count": null,
   "id": "2409712d",
   "metadata": {},
   "outputs": [],
   "source": [
    "data.isnull().sum()"
   ]
  },
  {
   "cell_type": "code",
   "execution_count": null,
   "id": "86a4f2d9",
   "metadata": {},
   "outputs": [],
   "source": [
    "avg = data['raisedhands'].astype('float').mean()\n",
    "avg = avg.astype('int')\n",
    "avg"
   ]
  },
  {
   "cell_type": "code",
   "execution_count": null,
   "id": "23cc13b9",
   "metadata": {
    "scrolled": true
   },
   "outputs": [],
   "source": [
    "data[\"raisedhands\"].replace(np.NaN, avg, inplace=True)"
   ]
  },
  {
   "cell_type": "code",
   "execution_count": null,
   "id": "ec9bbd96",
   "metadata": {},
   "outputs": [],
   "source": [
    "data.isnull().sum()"
   ]
  },
  {
   "cell_type": "code",
   "execution_count": null,
   "id": "4a1e7a29",
   "metadata": {},
   "outputs": [],
   "source": [
    "cols = ['gender', 'NationalITy', 'PlaceofBirth', 'StageID', 'GradeID', 'SectionID', 'Topic', 'Semester', 'Relation', 'raisedhands', 'VisITedResources', 'AnnouncementsView', 'Discussion', 'ParentschoolSatisfaction', 'StudentAbsenceDays', 'Class']"
   ]
  },
  {
   "cell_type": "code",
   "execution_count": null,
   "id": "59be96a7",
   "metadata": {},
   "outputs": [],
   "source": [
    "# no. of occurrences of values in each columns\n",
    "for column in cols:\n",
    "    print(data[column].value_counts())"
   ]
  },
  {
   "cell_type": "code",
   "execution_count": null,
   "id": "52efdd94",
   "metadata": {},
   "outputs": [],
   "source": [
    "data['Semester'].value_counts()"
   ]
  },
  {
   "cell_type": "code",
   "execution_count": null,
   "id": "f2741216",
   "metadata": {},
   "outputs": [],
   "source": [
    "data.shape"
   ]
  },
  {
   "cell_type": "code",
   "execution_count": null,
   "id": "83580d2c",
   "metadata": {},
   "outputs": [],
   "source": [
    "data = data[data['Semester'].str.contains(\"T\") == False]"
   ]
  },
  {
   "cell_type": "code",
   "execution_count": null,
   "id": "83dfe20a",
   "metadata": {},
   "outputs": [],
   "source": [
    "data.shape"
   ]
  },
  {
   "cell_type": "code",
   "execution_count": null,
   "id": "476ba1a8",
   "metadata": {},
   "outputs": [],
   "source": [
    "data['Semester'].value_counts()"
   ]
  },
  {
   "cell_type": "code",
   "execution_count": null,
   "id": "31d516e4",
   "metadata": {},
   "outputs": [],
   "source": [
    "data.isnull().sum()"
   ]
  },
  {
   "cell_type": "code",
   "execution_count": null,
   "id": "ab0ce983",
   "metadata": {},
   "outputs": [],
   "source": [
    "# dropping a column\n",
    "data.drop(['ParentAnsweringSurvey'], axis=1, inplace=True)"
   ]
  },
  {
   "cell_type": "code",
   "execution_count": null,
   "id": "3ec59d5e",
   "metadata": {},
   "outputs": [],
   "source": [
    "data"
   ]
  },
  {
   "cell_type": "code",
   "execution_count": null,
   "id": "1cbb99b8",
   "metadata": {},
   "outputs": [],
   "source": [
    "# normalization of 'VisITedResources'\n",
    "data[\"VisITedResources\"] = (data[\"VisITedResources\"]-data[\"VisITedResources\"].min())/(data[\"VisITedResources\"].max()-data[\"VisITedResources\"].min())"
   ]
  },
  {
   "cell_type": "code",
   "execution_count": null,
   "id": "9d00e69d",
   "metadata": {},
   "outputs": [],
   "source": [
    "# normalization of 'raisedhands'\n",
    "data[\"raisedhands\"] = (data[\"raisedhands\"].astype(\"float\")-data[\"raisedhands\"].astype(\"float\").min())/(data[\"raisedhands\"].astype(\"float\").max()-data[\"raisedhands\"].astype(\"float\").min())"
   ]
  },
  {
   "cell_type": "code",
   "execution_count": null,
   "id": "a1c8bb54",
   "metadata": {},
   "outputs": [],
   "source": [
    "data"
   ]
  },
  {
   "cell_type": "code",
   "execution_count": null,
   "id": "01809c25",
   "metadata": {},
   "outputs": [],
   "source": [
    "data[\"GradeID\"].value_counts()"
   ]
  },
  {
   "cell_type": "code",
   "execution_count": null,
   "id": "dc783677",
   "metadata": {},
   "outputs": [],
   "source": [
    "data[\"GradeID\"].replace({\"G-02\":1, \"G-04\":2, \"G-05\":3, \"G-06\":4, \"G-07\":5, \"G-08\":6, \"G-09\":7, \"G-10\":8, \"G-11\":9, \"G-12\":10}, inplace=True)"
   ]
  },
  {
   "cell_type": "code",
   "execution_count": null,
   "id": "c5b97671",
   "metadata": {},
   "outputs": [],
   "source": [
    "data"
   ]
  },
  {
   "cell_type": "code",
   "execution_count": null,
   "id": "fb9ffb8d",
   "metadata": {},
   "outputs": [],
   "source": [
    "data[\"GradeID\"].value_counts()"
   ]
  },
  {
   "cell_type": "code",
   "execution_count": null,
   "id": "4edc55b8",
   "metadata": {},
   "outputs": [],
   "source": [
    "data[\"StudentAbsenceDays\"].value_counts()"
   ]
  },
  {
   "cell_type": "code",
   "execution_count": null,
   "id": "489596a6",
   "metadata": {},
   "outputs": [],
   "source": [
    "data[\"StudentAbsenceDays\"].replace(\"Under-7\", 0, inplace=True)\n",
    "data[\"StudentAbsenceDays\"].replace(\"Above-7\", 1, inplace=True)"
   ]
  },
  {
   "cell_type": "code",
   "execution_count": null,
   "id": "c487ad0b",
   "metadata": {},
   "outputs": [],
   "source": [
    "data[\"StudentAbsenceDays\"].value_counts()"
   ]
  },
  {
   "cell_type": "code",
   "execution_count": null,
   "id": "7bfef490",
   "metadata": {},
   "outputs": [],
   "source": [
    "data"
   ]
  },
  {
   "cell_type": "code",
   "execution_count": null,
   "id": "1648ad51",
   "metadata": {},
   "outputs": [],
   "source": [
    "bins = np.linspace(min(data[\"Discussion\"]), max(data[\"Discussion\"]), 4)\n",
    "bins"
   ]
  },
  {
   "cell_type": "code",
   "execution_count": null,
   "id": "0ec16158",
   "metadata": {},
   "outputs": [],
   "source": [
    "group_names = ['Low', 'Medium', 'High']"
   ]
  },
  {
   "cell_type": "code",
   "execution_count": null,
   "id": "9cb61747",
   "metadata": {},
   "outputs": [],
   "source": [
    "data['Discussion-binned'] = pd.cut(data['Discussion'], bins, labels = group_names, include_lowest=True)\n",
    "data[['Discussion', 'Discussion-binned']]"
   ]
  },
  {
   "cell_type": "code",
   "execution_count": null,
   "id": "dd822c2c",
   "metadata": {},
   "outputs": [],
   "source": [
    "data.to_csv(\"wrangled_data_2.csv\")"
   ]
  }
 ],
 "metadata": {
  "kernelspec": {
   "display_name": "Python 3 (ipykernel)",
   "language": "python",
   "name": "python3"
  },
  "language_info": {
   "codemirror_mode": {
    "name": "ipython",
    "version": 3
   },
   "file_extension": ".py",
   "mimetype": "text/x-python",
   "name": "python",
   "nbconvert_exporter": "python",
   "pygments_lexer": "ipython3",
   "version": "3.11.2"
  }
 },
 "nbformat": 4,
 "nbformat_minor": 5
}
