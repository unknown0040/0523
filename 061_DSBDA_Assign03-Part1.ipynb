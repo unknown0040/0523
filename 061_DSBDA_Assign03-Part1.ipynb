{
 "cells": [
  {
   "cell_type": "code",
   "execution_count": null,
   "id": "bb37955d",
   "metadata": {},
   "outputs": [],
   "source": [
    "import numpy as np\n",
    "import pandas as pd"
   ]
  },
  {
   "cell_type": "code",
   "execution_count": null,
   "id": "f9d85494",
   "metadata": {},
   "outputs": [],
   "source": [
    "data = pd.read_csv(\"03-1online_store_customer_data.csv\")"
   ]
  },
  {
   "cell_type": "code",
   "execution_count": null,
   "id": "d15cbfcb",
   "metadata": {},
   "outputs": [],
   "source": [
    "data"
   ]
  },
  {
   "cell_type": "code",
   "execution_count": null,
   "id": "ad46c69e",
   "metadata": {},
   "outputs": [],
   "source": [
    "data['Age'].value_counts()"
   ]
  },
  {
   "cell_type": "code",
   "execution_count": null,
   "id": "b03731ec",
   "metadata": {},
   "outputs": [],
   "source": [
    "data.dtypes"
   ]
  },
  {
   "cell_type": "code",
   "execution_count": null,
   "id": "e9106259",
   "metadata": {},
   "outputs": [],
   "source": [
    "# grouping for amount spent according to age\n",
    "summary = data.groupby('Age').agg(['mean', 'median', 'min', 'max', 'std'])['Amount_spent']\n",
    "summary"
   ]
  },
  {
   "cell_type": "code",
   "execution_count": null,
   "id": "c85b8eb9",
   "metadata": {},
   "outputs": [],
   "source": [
    "loc_groups = data['Age'].unique().tolist() # converting to a simple list"
   ]
  },
  {
   "cell_type": "code",
   "execution_count": null,
   "id": "10ef5ccc",
   "metadata": {},
   "outputs": [],
   "source": [
    "loc_groups"
   ]
  },
  {
   "cell_type": "code",
   "execution_count": null,
   "id": "0b22804c",
   "metadata": {},
   "outputs": [],
   "source": [
    "data.to_csv('assign3_part1.csv')"
   ]
  }
 ],
 "metadata": {
  "kernelspec": {
   "display_name": "Python 3 (ipykernel)",
   "language": "python",
   "name": "python3"
  },
  "language_info": {
   "codemirror_mode": {
    "name": "ipython",
    "version": 3
   },
   "file_extension": ".py",
   "mimetype": "text/x-python",
   "name": "python",
   "nbconvert_exporter": "python",
   "pygments_lexer": "ipython3",
   "version": "3.11.2"
  }
 },
 "nbformat": 4,
 "nbformat_minor": 5
}
